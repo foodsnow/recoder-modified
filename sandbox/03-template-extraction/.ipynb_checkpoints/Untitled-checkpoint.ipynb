{
 "cells": [
  {
   "cell_type": "code",
   "execution_count": 2,
   "id": "d4c72178",
   "metadata": {},
   "outputs": [],
   "source": [
    "import os, sys\n",
    "import subprocess"
   ]
  },
  {
   "cell_type": "code",
   "execution_count": 5,
   "id": "0010a8ba",
   "metadata": {},
   "outputs": [],
   "source": [
    "def rungumtree(source, dest, output):\n",
    "    process = subprocess.Popen([\n",
    "        \"java\",\n",
    "        \"-jar\",\n",
    "        \"/root/projects/satbek-gum/gumtree/dist/build/libs/gumtree.jar\",\n",
    "        \"piediff\",\n",
    "        source,\n",
    "        dest,\n",
    "        \"0\"\n",
    "    ], stdout=subprocess.PIPE, stderr=subprocess.PIPE)\n",
    "    stdout, stderr = process.communicate()\n",
    "\n",
    "    text = stdout\n",
    "    if process.returncode != 0:\n",
    "        print(\"Error\", idx)\n",
    "        text = stderr\n",
    "        \n",
    "    if text.strip() == \"\":\n",
    "        print(idx, \"is Empty: something is wrong\")\n",
    "        return\n",
    "\n",
    "    with open(f\"{output}/template.java\", \"w+\") as f:\n",
    "        f.write(text.decode(\"utf-8\"))\n",
    "        \n",
    "def replace_token(source, old, new):\n",
    "    with open(source) as f:\n",
    "        content = f.read()\n",
    "    with open(source, \"w\") as f:\n",
    "        f.write(content.replace(old, new))"
   ]
  },
  {
   "cell_type": "code",
   "execution_count": 6,
   "id": "5f564c3b",
   "metadata": {},
   "outputs": [],
   "source": [
    "rungumtree(\n",
    "    \"/root/projects/recoder-original/d4j_correct_pairs/Chart-3_4-25/pre.java\",\n",
    "    \"/root/projects/recoder-original/d4j_correct_pairs/Chart-3_4-25/post.java\",\n",
    "    \"/root/projects/recoder-original/d4j_correct_pairs/Chart-3_4-25\"\n",
    ")\n",
    "replace_token(\"/root/projects/recoder-original/d4j_correct_pairs/Chart-3_4-25/template.java\", \"<unknown>\", \"PL_UNK\")"
   ]
  },
  {
   "cell_type": "code",
   "execution_count": null,
   "id": "b487eedc",
   "metadata": {},
   "outputs": [],
   "source": [
    "# Experiment #1: Does NTM model cover all correct patches of Recoder\n",
    "def experiment1(correct_patches_path):\n",
    "    for project in os.listdir(correct_patches_path):\n",
    "        rungumtree(\n",
    "            f\"{correct_patches_path}/{project}/pre.java\",\n",
    "            f\"{correct_patches_path}/{project}/post.java\",\n",
    "            f\"{correct_patches_path}/{project}\"\n",
    "        )\n",
    "        replace_token(f\"{correct_patches_path}/{project}/template.java\", \"<unknown>\", \"PL_UNK\")"
   ]
  }
 ],
 "metadata": {
  "kernelspec": {
   "display_name": "gumtree",
   "language": "python",
   "name": "gumtree"
  },
  "language_info": {
   "codemirror_mode": {
    "name": "ipython",
    "version": 3
   },
   "file_extension": ".py",
   "mimetype": "text/x-python",
   "name": "python",
   "nbconvert_exporter": "python",
   "pygments_lexer": "ipython3",
   "version": "3.8.10"
  }
 },
 "nbformat": 4,
 "nbformat_minor": 5
}
