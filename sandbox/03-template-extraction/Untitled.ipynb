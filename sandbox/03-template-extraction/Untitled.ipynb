{
 "cells": [
  {
   "cell_type": "code",
   "execution_count": 1,
   "id": "d7f2e443",
   "metadata": {},
   "outputs": [],
   "source": [
    "import os, sys\n",
    "import subprocess\n",
    "import shlex"
   ]
  },
  {
   "cell_type": "code",
   "execution_count": 2,
   "id": "aa5ce64c",
   "metadata": {},
   "outputs": [],
   "source": [
    "def rungumtree(source, dest, output):\n",
    "    process = subprocess.Popen(\n",
    "        shlex.split(\n",
    "            f\"java -jar /root/projects/satbek-gum/gumtree/dist/build/libs/gumtree.jar piediff {source} {dest} -d 0 -m gumtree-hybrid\"\n",
    "        ), stdout=subprocess.PIPE, stderr=subprocess.PIPE)\n",
    "    stdout, stderr = process.communicate()\n",
    "\n",
    "    text = stdout\n",
    "    if process.returncode != 0:\n",
    "        print(\"Error\", idx)\n",
    "        text = stderr\n",
    "        \n",
    "    if text.strip() == \"\":\n",
    "        print(idx, \"is Empty: something is wrong\")\n",
    "        return\n",
    "\n",
    "    with open(f\"{output}/template.java\", \"w+\") as f:\n",
    "        f.write(text.decode(\"utf-8\"))\n",
    "        \n",
    "def replace_token(source, old, new):\n",
    "    with open(source) as f:\n",
    "        content = f.read()\n",
    "    with open(source, \"w\") as f:\n",
    "        f.write(content.replace(old, new))"
   ]
  },
  {
   "cell_type": "code",
   "execution_count": 3,
   "id": "42b1cc3a",
   "metadata": {},
   "outputs": [],
   "source": [
    "rungumtree(\n",
    "    \"/root/projects/recoder-original/d4j_correct_pairs/Chart-3_4-25/pre.java\",\n",
    "    \"/root/projects/recoder-original/d4j_correct_pairs/Chart-3_4-25/post.java\",\n",
    "    \"/root/projects/recoder-original/d4j_correct_pairs/Chart-3_4-25\"\n",
    ")\n",
    "replace_token(\"/root/projects/recoder-original/d4j_correct_pairs/Chart-3_4-25/template.java\", \"<unknown>\", \"PL_UNK\")"
   ]
  },
  {
   "cell_type": "code",
   "execution_count": 4,
   "id": "72a4b088",
   "metadata": {},
   "outputs": [],
   "source": [
    "# Experiment #1: Does NTM model cover all correct patches of Recoder?\n",
    "def convert_to_templates(correct_patches_path):\n",
    "    for project in os.listdir(correct_patches_path):\n",
    "        rungumtree(\n",
    "            f\"{correct_patches_path}/{project}/pre.java\",\n",
    "            f\"{correct_patches_path}/{project}/post.java\",\n",
    "            f\"{correct_patches_path}/{project}\"\n",
    "        )\n",
    "        replace_token(f\"{correct_patches_path}/{project}/template.java\", \"<unknown>\", \"PL_UNK\")\n",
    "convert_to_templates(\"/root/projects/recoder-original/d4j_correct_pairs\")"
   ]
  },
  {
   "cell_type": "code",
   "execution_count": 5,
   "id": "25de6bd5",
   "metadata": {},
   "outputs": [],
   "source": [
    "import javalang"
   ]
  },
  {
   "cell_type": "code",
   "execution_count": 8,
   "id": "e81917e1",
   "metadata": {},
   "outputs": [
    {
     "name": "stdout",
     "output_type": "stream",
     "text": [
      "Chart-3_4-25\n",
      "Chart-3_5-22\n",
      "Lang-59_5-21\n",
      "Lang-6_47-6\n",
      "Closure-118_0-36\n",
      "Math-41_22-13\n",
      "Closure-118_0-122\n",
      "Closure-2_2-19\n",
      "Math-33_19-29\n",
      "Closure-2_2-25\n",
      "Closure-57_6-47\n",
      "Closure-2_3-13\n",
      "Lang-55_5-14\n",
      "Closure-104_7-89\n",
      "Chart-4_51-31\n",
      "Closure-33_3-34\n",
      "Closure-104_7-299\n",
      "Lang-43_5-32\n",
      "Closure-93_12-2\n",
      "Chart-26_128-40\n",
      "Closure-115_12-3\n",
      "Chart-26_129-3\n",
      "Closure-115_12-40\n",
      "Chart-26_129-21\n",
      "Math-75_0-3\n",
      "Math-70_0-12\n",
      "Math-5_0-3\n",
      "Chart-12_9-11\n",
      "Lang-26_4-2\n",
      "Chart-24_2-10\n",
      "Mockito-38_0-1\n",
      "Closure-46_0-6\n",
      "Closure-46_4-330\n",
      "Chart-8_0-6\n",
      "Closure-92_12-2\n",
      "Math-105_14-2\n",
      "Chart-11_4-4\n",
      "Chart-9_12-14\n",
      "Closure-21_2-32\n",
      "Time-7_251-26\n",
      "Closure-21_3-12\n",
      "Chart-20_4-6\n",
      "Closure-21_3-21\n",
      "Closure-21_3-95\n",
      "Math-94_5-6\n",
      "17\n",
      "45\n"
     ]
    },
    {
     "data": {
      "text/plain": [
       "0.37777777777777777"
      ]
     },
     "execution_count": 8,
     "metadata": {},
     "output_type": "execute_result"
    }
   ],
   "source": [
    "def is_same(tokens1, tokens2):\n",
    "    for x, y in zip(tokens1, tokens2):\n",
    "        if x.value != y.value:\n",
    "            return False\n",
    "    return True\n",
    "\n",
    "def get_stats_exp1():\n",
    "    acc = 0\n",
    "    for project in os.listdir(\"/root/projects/alpha-repair/out\"):\n",
    "        with open(f\"/root/projects/recoder-original/d4j_correct_pairs/{project}/post.java\") as f:\n",
    "            gt = f.read()\n",
    "        \n",
    "        for candidate in os.listdir(f\"/root/projects/alpha-repair/out/{project}\"):\n",
    "            candidate_file = os.listdir(f\"/root/projects/alpha-repair/out/{project}/{candidate}\")[0]\n",
    "            candidate = f\"/root/projects/alpha-repair/out/{project}/{candidate}/{candidate_file}\"\n",
    "            \n",
    "            with open(candidate) as f:\n",
    "                candidate = f.read()\n",
    "            \n",
    "            candidate_tokens = javalang.tokenizer.tokenize(candidate)\n",
    "            gt_tokens = javalang.tokenizer.tokenize(gt)\n",
    "            \n",
    "            if is_same(candidate_tokens, gt_tokens):\n",
    "                acc += 1\n",
    "                break\n",
    "        print(project)\n",
    "    print(acc)\n",
    "    print(len(os.listdir(\"/root/projects/alpha-repair/out\")))\n",
    "    return acc / len(os.listdir(\"/root/projects/alpha-repair/out\"))\n",
    "\n",
    "get_stats_exp1()"
   ]
  },
  {
   "cell_type": "code",
   "execution_count": 9,
   "id": "dabb127f",
   "metadata": {},
   "outputs": [
    {
     "data": {
      "text/plain": [
       "24"
      ]
     },
     "execution_count": 9,
     "metadata": {},
     "output_type": "execute_result"
    }
   ],
   "source": [
    "69 - 45"
   ]
  },
  {
   "cell_type": "code",
   "execution_count": null,
   "id": "b180133f",
   "metadata": {},
   "outputs": [],
   "source": []
  }
 ],
 "metadata": {
  "kernelspec": {
   "display_name": "gumtree",
   "language": "python",
   "name": "gumtree"
  },
  "language_info": {
   "codemirror_mode": {
    "name": "ipython",
    "version": 3
   },
   "file_extension": ".py",
   "mimetype": "text/x-python",
   "name": "python",
   "nbconvert_exporter": "python",
   "pygments_lexer": "ipython3",
   "version": "3.8.10"
  }
 },
 "nbformat": 4,
 "nbformat_minor": 5
}
